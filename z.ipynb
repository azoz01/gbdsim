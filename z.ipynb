{
 "cells": [
  {
   "cell_type": "code",
   "execution_count": null,
   "id": "9f6cf66b",
   "metadata": {},
   "outputs": [],
   "source": [
    "import pandas as pd\n",
    "from scipy.spatial.distance import cdist\n",
    "import json\n",
    "import numpy as np"
   ]
  },
  {
   "cell_type": "code",
   "execution_count": null,
   "id": "6e4235c1",
   "metadata": {},
   "outputs": [],
   "source": [
    "with open(\"data/tabrepo/selected_pipelines.json\", \"r\") as f:\n",
    "    selected_pipelines = json.load(f)\n",
    "\n",
    "raw_ranks = pd.read_csv(\"data/tabrepo/raw_ranks.csv\")\n",
    "raw_ranks = raw_ranks.loc[:, selected_pipelines].values"
   ]
  },
  {
   "cell_type": "code",
   "execution_count": null,
   "id": "e77f8610",
   "metadata": {},
   "outputs": [],
   "source": [
    "distances = cdist(raw_ranks, raw_ranks) / len(selected_pipelines)\n",
    "distances = distances.flatten()\n",
    "np.abs(distances - distances.mean()).mean()"
   ]
  }
 ],
 "metadata": {
  "kernelspec": {
   "display_name": ".venv",
   "language": "python",
   "name": "python3"
  },
  "language_info": {
   "codemirror_mode": {
    "name": "ipython",
    "version": 3
   },
   "file_extension": ".py",
   "mimetype": "text/x-python",
   "name": "python",
   "nbconvert_exporter": "python",
   "pygments_lexer": "ipython3",
   "version": "3.10.12"
  }
 },
 "nbformat": 4,
 "nbformat_minor": 5
}
