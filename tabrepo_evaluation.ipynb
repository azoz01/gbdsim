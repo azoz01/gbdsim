{
 "cells": [
  {
   "cell_type": "code",
   "execution_count": null,
   "id": "d3ddf742",
   "metadata": {},
   "outputs": [],
   "source": [
    "import json\n",
    "import pandas as pd\n",
    "from scipy.spatial.distance import cdist\n",
    "import numpy as np\n",
    "from tqdm import tqdm\n",
    "import random\n",
    "from typing import Any\n",
    "import pickle as pkl\n",
    "from typing import Callable\n",
    "from functools import partial\n",
    "from gbdsim.data.data_preprocessor import DataPreprocessor\n",
    "from pathlib import Path\n",
    "from tqdm import tqdm\n",
    "import torch"
   ]
  },
  {
   "cell_type": "code",
   "execution_count": null,
   "id": "448e6060",
   "metadata": {},
   "outputs": [],
   "source": [
    "with open(\"data/tabrepo/selected_pipelines.json\", \"r\") as f:\n",
    "    selected_pipelines = json.load(f)\n",
    "\n",
    "with open(\"data/tabrepo/split.json\", \"r\") as f:\n",
    "    splits = json.load(f)\n",
    "\n",
    "raw_ranks = pd.read_csv(\"data/tabrepo/raw_ranks.csv\")\n",
    "\n",
    "train_ranks = raw_ranks.loc[raw_ranks.dataset_id.isin(splits[\"train\"])]\n",
    "test_ranks = raw_ranks.loc[raw_ranks.dataset_id.isin(splits[\"test\"])]"
   ]
  },
  {
   "cell_type": "markdown",
   "id": "6c1b9320",
   "metadata": {},
   "source": [
    "## Baselines"
   ]
  },
  {
   "cell_type": "code",
   "execution_count": null,
   "id": "9f47c428",
   "metadata": {},
   "outputs": [],
   "source": [
    "def calculate_distances_to_rows_based_on_euclidean_distance(\n",
    "    X: pd.DataFrame,\n",
    "    y: pd.DataFrame,\n",
    "    columns_to_select: list[str] | None = None,\n",
    ") -> np.ndarray:\n",
    "    if columns_to_select is not None:\n",
    "        X = X[columns_to_select]\n",
    "        y = y[columns_to_select]\n",
    "    return cdist(\n",
    "        y.values.reshape(1, -1),\n",
    "        X.values,\n",
    "    ).flatten()\n",
    "\n",
    "\n",
    "def get_closest_dataset_idx(\n",
    "    X: pd.DataFrame,\n",
    "    y: pd.DataFrame,\n",
    "    distance_calculator: Callable[[pd.DataFrame, pd.DataFrame], np.ndarray],\n",
    ") -> int:\n",
    "    distances = distance_calculator(X, y)\n",
    "    closest_distance_idx = np.argmin(distances)\n",
    "    return closest_distance_idx.item()\n",
    "\n",
    "\n",
    "def search_closest_by_index(\n",
    "    target_dataset: pd.DataFrame,\n",
    "    dataset_base: pd.DataFrame,\n",
    "    distance_calculator: Callable[[pd.DataFrame, pd.DataFrame], np.ndarray],\n",
    ") -> float:\n",
    "    closest_distance_idx = get_closest_dataset_idx(\n",
    "        dataset_base, target_dataset, distance_calculator\n",
    "    )\n",
    "    closest_row = dataset_base.iloc[[closest_distance_idx]]\n",
    "    closest_row_ranks = closest_row.iloc[:, 1:-1].values.flatten()\n",
    "    best_pipeline_idx = np.argmin(closest_row_ranks)\n",
    "    return best_pipeline_idx.item()\n",
    "\n",
    "\n",
    "def search_random_pipeline(\n",
    "    target_dataset: pd.DataFrame, dataset_base: pd.DataFrame, *args, **kwargs\n",
    ") -> float:\n",
    "    num_pipelines = dataset_base.iloc[:, 1:-1].shape[1]\n",
    "    return random.randint(0, num_pipelines - 1)\n",
    "\n",
    "\n",
    "def search_best_pipeline_from_random_dataset(\n",
    "    target_dataset: pd.DataFrame,\n",
    "    dataset_base: pd.DataFrame,\n",
    "    *args,\n",
    "    **kwargs,\n",
    ") -> float:\n",
    "    return search_closest_by_index(\n",
    "        target_dataset,\n",
    "        dataset_base,\n",
    "        lambda X, y: np.random.uniform(0, 1, (X.shape[0],)),\n",
    "    )"
   ]
  },
  {
   "cell_type": "code",
   "execution_count": null,
   "id": "3dba8c71",
   "metadata": {},
   "outputs": [],
   "source": [
    "ranks = []\n",
    "for idx, row in tqdm(list(test_ranks.iterrows())):\n",
    "    row = test_ranks.loc[[idx]]\n",
    "    best_pipeline_idx = search_closest_by_index(\n",
    "        row[selected_pipelines],\n",
    "        train_ranks,\n",
    "        partial(\n",
    "            calculate_distances_to_rows_based_on_euclidean_distance,\n",
    "            columns_to_select=selected_pipelines,\n",
    "        ),\n",
    "    )\n",
    "    best_pipeline_rank = row.iloc[:, 1:-1].values.reshape(-1)[\n",
    "        best_pipeline_idx\n",
    "    ]  # type: ignore\n",
    "    ranks.append(best_pipeline_rank)\n",
    "print(f\"search by landmarkers = {np.mean(ranks):.4f}\")"
   ]
  },
  {
   "cell_type": "code",
   "execution_count": null,
   "id": "3ca62cee",
   "metadata": {},
   "outputs": [],
   "source": [
    "ranks = []\n",
    "for idx, row in tqdm(list(test_ranks.iterrows())):\n",
    "    row = test_ranks.loc[[idx]]\n",
    "    for _ in range(1000):\n",
    "        best_pipeline_idx = search_random_pipeline(\n",
    "            row[selected_pipelines],\n",
    "            train_ranks,\n",
    "        )\n",
    "        best_pipeline_rank = row.iloc[:, 1:-1].values.reshape(-1)[\n",
    "            best_pipeline_idx\n",
    "        ]  # type: ignore\n",
    "        ranks.append(best_pipeline_rank)\n",
    "print(f\"random pipeline = {np.median(ranks):.4f}\")"
   ]
  },
  {
   "cell_type": "code",
   "execution_count": null,
   "id": "0c373ed1",
   "metadata": {},
   "outputs": [],
   "source": [
    "ranks = []\n",
    "for idx, row in tqdm(list(test_ranks.iterrows())):\n",
    "    row = test_ranks.loc[[idx]]\n",
    "    for _ in range(1000):\n",
    "        best_pipeline_idx = search_best_pipeline_from_random_dataset(\n",
    "            row[selected_pipelines],\n",
    "            train_ranks,\n",
    "        )\n",
    "        best_pipeline_rank = row.iloc[:, 1:-1].values.reshape(-1)[\n",
    "            best_pipeline_idx\n",
    "        ]  # type: ignore\n",
    "        ranks.append(best_pipeline_rank)\n",
    "print(f\"random dataset = {np.median(ranks):.4f}\")"
   ]
  },
  {
   "cell_type": "markdown",
   "id": "e834289f",
   "metadata": {},
   "source": [
    "## Model"
   ]
  },
  {
   "cell_type": "code",
   "execution_count": null,
   "id": "04d09e5d",
   "metadata": {},
   "outputs": [],
   "source": [
    "with open(\n",
    "    \"results/tabrepo/dataset2vec/2025_05_13__16_40_26/final_model.pkl\", \"rb\"\n",
    ") as f:\n",
    "    model = pkl.load(f).model"
   ]
  },
  {
   "cell_type": "code",
   "execution_count": null,
   "id": "ce7b4031",
   "metadata": {},
   "outputs": [],
   "source": [
    "datasets = [\n",
    "    (\n",
    "        int(path.stem),\n",
    "        DataPreprocessor().preprocess_pandas_data(pd.read_csv(path)),\n",
    "    )\n",
    "    for path in Path(\"data/tabrepo/datasets\").iterdir()\n",
    "]\n",
    "train_datasets = list(filter(lambda d: d[0] in splits[\"train\"], datasets))\n",
    "test_datasets = list(filter(lambda d: d[0] in splits[\"test\"], datasets))"
   ]
  },
  {
   "cell_type": "code",
   "execution_count": null,
   "id": "04fe81f8",
   "metadata": {},
   "outputs": [],
   "source": [
    "ranks = []\n",
    "for dataset_id, (X, y) in tqdm(test_datasets):\n",
    "    distances = []\n",
    "    dids = []\n",
    "    for train_dataset_id, (X_train, y_train) in train_datasets:\n",
    "        dids.append(train_dataset_id)\n",
    "        with torch.no_grad():\n",
    "            if X_train.shape[1] == 0 or X.shape[1] == 0:\n",
    "                distances.append(float(\"inf\"))\n",
    "            else:\n",
    "                distances.append(\n",
    "                    model.calculate_dataset_distance(\n",
    "                        X_train.cuda(), y_train.cuda(), X.cuda(), y.cuda()\n",
    "                    )\n",
    "                    .detach()\n",
    "                    .cpu()\n",
    "                    .item()\n",
    "                )\n",
    "    closest_dataset_did = dids[np.argmin(distances)]\n",
    "    best_pipeline_idx = np.argmin(\n",
    "        train_ranks.loc[\n",
    "            train_ranks.dataset_id == closest_dataset_did\n",
    "        ].values.flatten()[1:-1]\n",
    "    )\n",
    "    ranks.append(\n",
    "        test_ranks.loc[test_ranks.dataset_id == dataset_id].values.flatten()[\n",
    "            1:-1\n",
    "        ][best_pipeline_idx]\n",
    "    )\n",
    "print(f\"gbdsim = {np.median(ranks):.4f}\")\n",
    "# gbdsim = 0.1373\n",
    "# dataset2vec = 0.1767\n",
    "\n",
    "# dataset2vec median = 0.1326\n",
    "# gbdsim median = 0.1594"
   ]
  },
  {
   "cell_type": "code",
   "execution_count": null,
   "id": "3847a5ff",
   "metadata": {},
   "outputs": [],
   "source": [
    "print(\"Dataset2Vec\")\n",
    "print(f\"mean = {np.mean(ranks):.4f}\")\n",
    "print(f\"median = {np.median(ranks):.4f}\")\n",
    "print(f\"stdev = {np.std(ranks):.4f}\")\n",
    "\n",
    "# Dataset2Vec\n",
    "# mean = 0.1480\n",
    "# median = 0.1413\n",
    "# stdev = 0.0555"
   ]
  },
  {
   "cell_type": "code",
   "execution_count": null,
   "id": "e1e5b924",
   "metadata": {},
   "outputs": [],
   "source": [
    "print(\"GBDSIM\")\n",
    "print(f\"mean = {np.mean(ranks):.4f}\")\n",
    "print(f\"median = {np.median(ranks):.4f}\")\n",
    "print(f\"stdev = {np.std(ranks):.4f}\")\n",
    "\n",
    "# GBDSIM\n",
    "# mean = 0.1631\n",
    "# median = 0.1594\n",
    "# stdev = 0.0554"
   ]
  },
  {
   "cell_type": "code",
   "execution_count": null,
   "id": "5e4f97ab",
   "metadata": {},
   "outputs": [],
   "source": [
    "df = pd.read_csv(\"data/tabrepo/raw_ranks.csv\")"
   ]
  },
  {
   "cell_type": "code",
   "execution_count": null,
   "id": "33f796b5",
   "metadata": {},
   "outputs": [],
   "source": [
    "df"
   ]
  },
  {
   "cell_type": "code",
   "execution_count": null,
   "id": "95d69dcc",
   "metadata": {},
   "outputs": [],
   "source": [
    "(\n",
    "    (df.iloc[:, 1:-1] * 100).values.T\n",
    "    == (df.iloc[:, 1:-1] * 100).values.T.min(axis=0)\n",
    ").sum()"
   ]
  }
 ],
 "metadata": {
  "kernelspec": {
   "display_name": ".venv",
   "language": "python",
   "name": "python3"
  },
  "language_info": {
   "codemirror_mode": {
    "name": "ipython",
    "version": 3
   },
   "file_extension": ".py",
   "mimetype": "text/x-python",
   "name": "python",
   "nbconvert_exporter": "python",
   "pygments_lexer": "ipython3",
   "version": "3.10.12"
  }
 },
 "nbformat": 4,
 "nbformat_minor": 5
}
