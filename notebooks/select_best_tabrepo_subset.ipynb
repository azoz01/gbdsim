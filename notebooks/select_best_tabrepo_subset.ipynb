{
 "cells": [
  {
   "cell_type": "code",
   "execution_count": null,
   "id": "0972d4b0",
   "metadata": {},
   "outputs": [],
   "source": [
    "import json\n",
    "\n",
    "import numpy as np\n",
    "import nevergrad as ng\n",
    "import pandas as pd\n",
    "\n",
    "from scipy.spatial.distance import cdist"
   ]
  },
  {
   "cell_type": "code",
   "execution_count": null,
   "id": "be6fd4b7",
   "metadata": {},
   "outputs": [],
   "source": [
    "SUBSET_SIZE = 50"
   ]
  },
  {
   "cell_type": "code",
   "execution_count": null,
   "id": "6586f053",
   "metadata": {},
   "outputs": [],
   "source": [
    "with open(\"data/tabrepo/selected_pipelines.json\", \"r\") as f:\n",
    "    selected_pipelines = json.load(f)\n",
    "\n",
    "with open(\"data/tabrepo/split.json\", \"r\") as f:\n",
    "    splits = json.load(f)\n",
    "\n",
    "raw_ranks = pd.read_csv(\"data/tabrepo/raw_ranks.csv\")\n",
    "\n",
    "train_ranks = raw_ranks.loc[raw_ranks.dataset_id.isin(splits[\"train\"])]\n",
    "test_ranks = raw_ranks.loc[raw_ranks.dataset_id.isin(splits[\"test\"])]"
   ]
  },
  {
   "cell_type": "code",
   "execution_count": null,
   "id": "dedf8088",
   "metadata": {},
   "outputs": [],
   "source": [
    "def search_closest_by_index(\n",
    "    dataset_row_index: pd.DataFrame,\n",
    "    datasets_with_landmarkers_to_search_from: pd.DataFrame,\n",
    "    dataset_index: pd.DataFrame,\n",
    ") -> float:\n",
    "    distances = cdist(\n",
    "        dataset_row_index.values.reshape(1, -1),\n",
    "        dataset_index.values,\n",
    "    ).flatten()\n",
    "    closest_distance_idx = np.argmin(distances)\n",
    "    closest_row = datasets_with_landmarkers_to_search_from.iloc[\n",
    "        [closest_distance_idx]\n",
    "    ]  # type: ignore\n",
    "    closest_row_ranks = closest_row.iloc[:, 1:-1].values.flatten()\n",
    "    best_pipeline_idx = np.argmin(closest_row_ranks)\n",
    "    return best_pipeline_idx.item()\n",
    "\n",
    "\n",
    "def objective(subset: set[str]) -> float:\n",
    "    if len(subset) < SUBSET_SIZE:\n",
    "        return 1e6\n",
    "    ranks = []\n",
    "    for idx, row in test_ranks.iterrows():\n",
    "        selected_pipelines = list(sorted(list(subset)))\n",
    "        row = test_ranks.loc[[idx]]\n",
    "        best_pipeline_idx = search_closest_by_index(\n",
    "            row[selected_pipelines],\n",
    "            train_ranks,\n",
    "            train_ranks[selected_pipelines],\n",
    "        )\n",
    "        best_pipeline_rank = row.iloc[:, 1:-1].values.reshape(-1)[\n",
    "            best_pipeline_idx\n",
    "        ]  # type: ignore\n",
    "        ranks.append(best_pipeline_rank)\n",
    "\n",
    "    return np.mean(ranks).item()"
   ]
  },
  {
   "cell_type": "code",
   "execution_count": null,
   "id": "1fce9c13",
   "metadata": {},
   "outputs": [],
   "source": [
    "param = ng.p.Choice(\n",
    "    train_ranks.iloc[:, 1:-1].columns.tolist(), repetitions=SUBSET_SIZE\n",
    ")\n",
    "optimizer = ng.optimizers.OnePlusOne(\n",
    "    parametrization=param, budget=100_000, num_workers=8\n",
    ")\n",
    "recommendation = optimizer.minimize(\n",
    "    objective, batch_mode=True, max_time=3600, verbosity=1\n",
    ")"
   ]
  },
  {
   "cell_type": "code",
   "execution_count": null,
   "id": "02151ef3",
   "metadata": {},
   "outputs": [],
   "source": [
    "with open(\"best_optimized.json\", \"w\") as f:\n",
    "    json.dump(recommendation.value, f, indent=4)"
   ]
  }
 ],
 "metadata": {
  "kernelspec": {
   "display_name": ".venv",
   "language": "python",
   "name": "python3"
  },
  "language_info": {
   "codemirror_mode": {
    "name": "ipython",
    "version": 3
   },
   "file_extension": ".py",
   "mimetype": "text/x-python",
   "name": "python",
   "nbconvert_exporter": "python",
   "pygments_lexer": "ipython3",
   "version": "3.10.12"
  }
 },
 "nbformat": 4,
 "nbformat_minor": 5
}
