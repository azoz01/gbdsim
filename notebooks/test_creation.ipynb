{
 "cells": [
  {
   "cell_type": "code",
   "execution_count": null,
   "metadata": {},
   "outputs": [],
   "source": [
    "import os\n",
    "\n",
    "os.chdir(\"..\")"
   ]
  },
  {
   "cell_type": "code",
   "execution_count": null,
   "metadata": {},
   "outputs": [],
   "source": [
    "from gbdsim.model.config import GbdsimConfig\n",
    "from gbdsim.model.gbdsim import GBDSim"
   ]
  },
  {
   "cell_type": "code",
   "execution_count": null,
   "metadata": {},
   "outputs": [],
   "source": [
    "conf1 = {\n",
    "    \"col2node_config\": {\n",
    "        \"col2node_type\": \"col2node\",\n",
    "        \"f_n_hidden\": 3,\n",
    "        \"f_hidden_size\": 32,\n",
    "        \"g_n_hidden\": 2,\n",
    "        \"g_hidden_size\": 32,\n",
    "        \"output_size\": 32,\n",
    "        \"activation_function\": \"ReLU\",\n",
    "    },\n",
    "    \"graph_sage_config\": {\n",
    "        \"hidden_channels\": 32,\n",
    "        \"num_layers\": 32,\n",
    "        \"out_channels\": 32,\n",
    "    },\n",
    "}\n",
    "GBDSim.from_config(GbdsimConfig.model_validate(conf1))"
   ]
  },
  {
   "cell_type": "code",
   "execution_count": null,
   "metadata": {},
   "outputs": [],
   "source": [
    "conf2 = {\n",
    "    \"col2node_config\": {\n",
    "        \"col2node_type\": \"momentum\",\n",
    "        \"hidden_size\": 32,\n",
    "        \"n_hidden\": 3,\n",
    "        \"output_size\": 32,\n",
    "        \"activation_function\": \"ReLU\",\n",
    "    },\n",
    "    \"graph_sage_config\": {\n",
    "        \"hidden_channels\": 32,\n",
    "        \"num_layers\": 32,\n",
    "        \"out_channels\": 32,\n",
    "    },\n",
    "}\n",
    "GBDSim.from_config(GbdsimConfig.model_validate(conf2))"
   ]
  }
 ],
 "metadata": {
  "kernelspec": {
   "display_name": ".venv",
   "language": "python",
   "name": "python3"
  },
  "language_info": {
   "codemirror_mode": {
    "name": "ipython",
    "version": 3
   },
   "file_extension": ".py",
   "mimetype": "text/x-python",
   "name": "python",
   "nbconvert_exporter": "python",
   "pygments_lexer": "ipython3",
   "version": "3.10.12"
  }
 },
 "nbformat": 4,
 "nbformat_minor": 2
}
