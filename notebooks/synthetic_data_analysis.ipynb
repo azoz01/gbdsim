{
 "cells": [
  {
   "cell_type": "code",
   "execution_count": null,
   "id": "dcdde504",
   "metadata": {},
   "outputs": [],
   "source": [
    "import os\n",
    "\n",
    "os.chdir(\"..\")"
   ]
  },
  {
   "cell_type": "code",
   "execution_count": null,
   "id": "2e820497",
   "metadata": {},
   "outputs": [],
   "source": [
    "import pytorch_lightning as pl\n",
    "import pickle as pkl\n",
    "import yaml\n",
    "from pytorch_lightning import seed_everything\n",
    "from torch.utils.data import DataLoader\n",
    "from gbdsim.experiment_config import ExperimentConfig\n",
    "import torch\n",
    "import numpy as np\n",
    "\n",
    "from gbdsim.causal.data import generate_synthetic_causal_data_example\n",
    "from gbdsim.data.generator_dataset import GeneratorDataset\n",
    "from itertools import chain\n",
    "from scipy.stats import ks_2samp\n",
    "import seaborn as sns\n",
    "import pandas as pd\n",
    "import matplotlib.pyplot as plt\n",
    "from gbdsim.causal.factory import MlpCausalGraphFractory\n",
    "from gbdsim.causal.similarity import calculate_graph_distance\n",
    "from tqdm import tqdm\n",
    "\n",
    "pl.seed_everything(1)"
   ]
  },
  {
   "cell_type": "code",
   "execution_count": null,
   "id": "3aeef44e",
   "metadata": {},
   "outputs": [],
   "source": [
    "with open(\"config/synthetic/gbdsim.yaml\") as f:\n",
    "    config = ExperimentConfig.model_validate(yaml.load(f, Loader=yaml.CLoader))"
   ]
  },
  {
   "cell_type": "markdown",
   "id": "4c2c858c",
   "metadata": {},
   "source": [
    "### OOD Analysis - similarities only"
   ]
  },
  {
   "cell_type": "code",
   "execution_count": null,
   "id": "10531b48",
   "metadata": {},
   "outputs": [],
   "source": [
    "train_dataset = GeneratorDataset(\n",
    "    generate_synthetic_causal_data_example,\n",
    "    1000,\n",
    "    False,\n",
    ")\n",
    "train_loader = DataLoader(\n",
    "    train_dataset,\n",
    "    config.data.train_batch_size,\n",
    "    collate_fn=lambda x: x,\n",
    "    num_workers=1,\n",
    "    pin_memory=True,\n",
    "    worker_init_fn=lambda id: seed_everything(id, verbose=False),  # type: ignore # noqa: E501\n",
    ")\n",
    "\n",
    "val_dataset = GeneratorDataset(\n",
    "    generate_synthetic_causal_data_example,\n",
    "    1000,\n",
    "    True,\n",
    ")\n",
    "val_loader = DataLoader(\n",
    "    val_dataset,\n",
    "    config.data.val_batch_size,\n",
    "    collate_fn=lambda x: x,\n",
    "    num_workers=1,\n",
    "    pin_memory=True,\n",
    "    worker_init_fn=lambda id: seed_everything(id, verbose=False),  # type: ignore # noqa: E501\n",
    ")"
   ]
  },
  {
   "cell_type": "code",
   "execution_count": null,
   "id": "8d5dcf23",
   "metadata": {},
   "outputs": [],
   "source": [
    "train_data = list(chain(*[batch for batch in train_loader]))\n",
    "val_data = list(chain(*[batch for batch in val_loader]))\n",
    "\n",
    "train_similarities = [obs[-1].item() for obs in train_data]\n",
    "val_similarities = [obs[-1].item() for obs in val_data]"
   ]
  },
  {
   "cell_type": "code",
   "execution_count": null,
   "id": "43b67562",
   "metadata": {},
   "outputs": [],
   "source": [
    "histogram_data = pd.DataFrame(\n",
    "    {\n",
    "        \"similarity\": train_similarities + val_similarities,\n",
    "        \"sample\": [\"train\"] * len(train_similarities)\n",
    "        + [\"test\"] * len(val_similarities),\n",
    "    }\n",
    ")\n",
    "sns.kdeplot(data=histogram_data, x=\"similarity\", hue=\"sample\", fill=True)\n",
    "pval = ks_2samp(train_similarities, val_similarities).pvalue\n",
    "plt.title(\n",
    "    f\"Comparison of train-test similarity distributions \\n Kolmogorov-Smirnoff test p-value = {pval:.3f}\"\n",
    ")"
   ]
  },
  {
   "cell_type": "markdown",
   "id": "b0014150",
   "metadata": {},
   "source": [
    "### OOD Analysis - graph distance between samples"
   ]
  },
  {
   "cell_type": "code",
   "execution_count": null,
   "id": "9e9bce18",
   "metadata": {},
   "outputs": [],
   "source": [
    "train_datasets = []\n",
    "val_datasets = []\n",
    "for _ in range(2000):\n",
    "    g = MlpCausalGraphFractory.generate_causal_graph()\n",
    "    train_datasets.append((g, g.generate_data()))\n",
    "for _ in range(2000):\n",
    "    g = MlpCausalGraphFractory.generate_causal_graph()\n",
    "    val_datasets.append((g, g.generate_data()))\n",
    "train_datasets = train_datasets[:100]\n",
    "val_datasets = val_datasets[:100]"
   ]
  },
  {
   "cell_type": "code",
   "execution_count": null,
   "id": "e60b9a21",
   "metadata": {},
   "outputs": [],
   "source": [
    "intra_train_distances = [\n",
    "    calculate_graph_distance(\n",
    "        train_datasets[i][0].nx_graph, train_datasets[j][0].nx_graph\n",
    "    ).item()\n",
    "    for i in tqdm(range(len(train_datasets)))\n",
    "    for j in range(len(train_datasets))\n",
    "    if i <= j\n",
    "]\n",
    "\n",
    "intra_test_distances = [\n",
    "    calculate_graph_distance(\n",
    "        val_datasets[i][0].nx_graph, val_datasets[j][0].nx_graph\n",
    "    ).item()\n",
    "    for i in tqdm(range(len(val_datasets)))\n",
    "    for j in range(len(val_datasets))\n",
    "    if i <= j\n",
    "]\n",
    "inter_distances = [\n",
    "    calculate_graph_distance(\n",
    "        train_datasets[i][0].nx_graph, val_datasets[j][0].nx_graph\n",
    "    ).item()\n",
    "    for i in tqdm(range(len(val_datasets)))\n",
    "    for j in range(len(train_datasets))\n",
    "]"
   ]
  },
  {
   "cell_type": "code",
   "execution_count": null,
   "id": "fe9d95b3",
   "metadata": {},
   "outputs": [],
   "source": [
    "histogram_data = pd.DataFrame(\n",
    "    {\n",
    "        \"similarity\": intra_train_distances\n",
    "        + intra_test_distances\n",
    "        + inter_distances[: len(inter_distances) // 2],\n",
    "        \"distance\": [\"train\"] * len(intra_train_distances)\n",
    "        + [\"test\"] * len(intra_test_distances)\n",
    "        + [\"between_samples\"] * (len(inter_distances) // 2),\n",
    "    }\n",
    ")"
   ]
  },
  {
   "cell_type": "code",
   "execution_count": null,
   "id": "74f831c6",
   "metadata": {},
   "outputs": [],
   "source": [
    "sns.kdeplot(data=histogram_data, x=\"similarity\", hue=\"distance\", fill=True)"
   ]
  },
  {
   "cell_type": "code",
   "execution_count": null,
   "id": "9e692ebc",
   "metadata": {},
   "outputs": [],
   "source": [
    "ks_2samp(intra_train_distances, intra_test_distances).pvalue"
   ]
  },
  {
   "cell_type": "code",
   "execution_count": null,
   "id": "e812bf52",
   "metadata": {},
   "outputs": [],
   "source": [
    "ks_2samp(inter_distances, intra_test_distances).pvalue"
   ]
  },
  {
   "cell_type": "markdown",
   "id": "d0b508dc",
   "metadata": {},
   "source": [
    "### GED vs performance"
   ]
  },
  {
   "cell_type": "code",
   "execution_count": null,
   "id": "28544792",
   "metadata": {},
   "outputs": [],
   "source": [
    "with open(\n",
    "    \"results/synthetic/gbdsim/2025_04_20__16_50_11/final_model.pkl\", \"rb\"\n",
    ") as f:\n",
    "    gbdsim = pkl.load(f).model\n",
    "\n",
    "with open(\n",
    "    \"results/synthetic/dataset2vec/2025_04_20__16_20_36/final_model.pkl\", \"rb\"\n",
    ") as f:\n",
    "    dataset2vec = pkl.load(f).model"
   ]
  },
  {
   "cell_type": "code",
   "execution_count": null,
   "id": "d6bbb45e",
   "metadata": {},
   "outputs": [],
   "source": [
    "with torch.no_grad():\n",
    "    gbdsim_similarities = [\n",
    "        gbdsim.calculate_dataset_distance(\n",
    "            obs[0].to(gbdsim.device),\n",
    "            obs[1].to(gbdsim.device),\n",
    "            obs[2].to(gbdsim.device),\n",
    "            obs[3].to(gbdsim.device),\n",
    "        )[0][0].item()\n",
    "        for obs in val_data\n",
    "    ]\n",
    "    dataset2vec_similarities = [\n",
    "        dataset2vec.calculate_dataset_distance(\n",
    "            obs[0].to(gbdsim.device),\n",
    "            obs[1].to(gbdsim.device),\n",
    "            obs[2].to(gbdsim.device),\n",
    "            obs[3].to(gbdsim.device),\n",
    "        )[0].item()\n",
    "        for obs in val_data\n",
    "    ]"
   ]
  },
  {
   "cell_type": "code",
   "execution_count": null,
   "id": "03ef1002",
   "metadata": {},
   "outputs": [],
   "source": [
    "sns.set_style(\"whitegrid\")"
   ]
  },
  {
   "cell_type": "code",
   "execution_count": null,
   "id": "24588144",
   "metadata": {},
   "outputs": [],
   "source": [
    "sns.scatterplot(\n",
    "    x=val_similarities,\n",
    "    y=np.array(val_similarities) - np.array(gbdsim_similarities),\n",
    ")\n",
    "plt.xlabel(\"Ground-truth label\")\n",
    "plt.ylabel(\"Residual\")"
   ]
  },
  {
   "cell_type": "code",
   "execution_count": null,
   "id": "1291d77e",
   "metadata": {},
   "outputs": [],
   "source": [
    "hist_data = pd.DataFrame(\n",
    "    {\n",
    "        \"similarity\": val_similarities + gbdsim_similarities,\n",
    "        \"origin\": [\"Ground-truth\"] * len(val_similarities)\n",
    "        + [\"Predicted\"] * len(gbdsim_similarities),\n",
    "    }\n",
    ")\n",
    "sns.kdeplot(data=hist_data, x=\"similarity\", hue=\"origin\", fill=True)"
   ]
  },
  {
   "cell_type": "code",
   "execution_count": null,
   "id": "007a05c6",
   "metadata": {},
   "outputs": [],
   "source": [
    "sns.scatterplot(\n",
    "    x=val_similarities,\n",
    "    y=np.array(gbdsim_similarities),\n",
    ")\n",
    "plt.xlabel(\"Ground-truth label\")\n",
    "plt.ylabel(\"Prediction\")"
   ]
  },
  {
   "cell_type": "code",
   "execution_count": null,
   "id": "154aa541",
   "metadata": {},
   "outputs": [],
   "source": [
    "sns.scatterplot(\n",
    "    x=val_similarities,\n",
    "    y=np.array(val_similarities) - np.array(dataset2vec_similarities),\n",
    ")\n",
    "plt.xlabel(\"Ground-truth label\")\n",
    "plt.ylabel(\"Residual\")"
   ]
  }
 ],
 "metadata": {
  "kernelspec": {
   "display_name": ".venv",
   "language": "python",
   "name": "python3"
  },
  "language_info": {
   "codemirror_mode": {
    "name": "ipython",
    "version": 3
   },
   "file_extension": ".py",
   "mimetype": "text/x-python",
   "name": "python",
   "nbconvert_exporter": "python",
   "pygments_lexer": "ipython3",
   "version": "3.10.12"
  }
 },
 "nbformat": 4,
 "nbformat_minor": 5
}
