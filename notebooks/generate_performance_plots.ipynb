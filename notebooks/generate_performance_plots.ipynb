{
 "cells": [
  {
   "cell_type": "code",
   "execution_count": null,
   "id": "1a4dd7bb",
   "metadata": {},
   "outputs": [],
   "source": [
    "from pathlib import Path\n",
    "import pandas as pd\n",
    "import json\n",
    "import seaborn as sns\n",
    "import matplotlib.pyplot as plt"
   ]
  },
  {
   "cell_type": "code",
   "execution_count": null,
   "id": "ea5af4e6",
   "metadata": {},
   "outputs": [],
   "source": [
    "def get_from_json(json_path: Path, key: str) -> pd.DataFrame:\n",
    "    with open(json_path, \"r\") as file:\n",
    "        data = json.load(file)\n",
    "    if key in data:\n",
    "        return data[key]\n",
    "    else:\n",
    "        raise KeyError(f\"Key '{key}' not found in JSON file.\")"
   ]
  },
  {
   "cell_type": "code",
   "execution_count": null,
   "id": "27b933a4",
   "metadata": {},
   "outputs": [],
   "source": [
    "RESULTS_PATH = Path(\"../results\")"
   ]
  },
  {
   "cell_type": "markdown",
   "id": "ac98edea",
   "metadata": {},
   "source": [
    "### Synthetic"
   ]
  },
  {
   "cell_type": "code",
   "execution_count": null,
   "id": "0852aef9",
   "metadata": {},
   "outputs": [],
   "source": [
    "results_dfs = []\n",
    "for method in (RESULTS_PATH / \"synthetic\").iterdir():\n",
    "    if not method.is_dir():\n",
    "        continue\n",
    "    accuracies = [\n",
    "        get_from_json(p, \"mae_by_model\") for p in method.rglob(\"*.json\")\n",
    "    ]\n",
    "    corr_performances = [\n",
    "        get_from_json(p, \"spearmanr_corr\") for p in method.rglob(\"*.json\")\n",
    "    ]\n",
    "    results_dfs.append(\n",
    "        pd.DataFrame(\n",
    "            {\n",
    "                \"problem\": [\"synthetic\"] * len(accuracies),\n",
    "                \"meta-model\": [method.stem] * len(accuracies),\n",
    "                \"mae\": accuracies,\n",
    "                \"corr\": corr_performances,\n",
    "            }\n",
    "        )\n",
    "    )\n",
    "synthetic_results_df = pd.concat(results_dfs, ignore_index=True)"
   ]
  },
  {
   "cell_type": "code",
   "execution_count": null,
   "id": "0f0d11b3",
   "metadata": {},
   "outputs": [],
   "source": [
    "results_dfs = []\n",
    "for method in (RESULTS_PATH / \"uci\").iterdir():\n",
    "    if not method.is_dir():\n",
    "        continue\n",
    "    accuracies = [get_from_json(p, \"accuracy\") for p in method.rglob(\"*.json\")]\n",
    "    results_dfs.append(\n",
    "        pd.DataFrame(\n",
    "            {\n",
    "                \"problem\": [\"uci\"] * len(accuracies),\n",
    "                \"meta-model\": [method.stem] * len(accuracies),\n",
    "                \"accuracy\": accuracies,\n",
    "            }\n",
    "        )\n",
    "    )\n",
    "uci_results_df = pd.concat(results_dfs, ignore_index=True)"
   ]
  },
  {
   "cell_type": "code",
   "execution_count": null,
   "id": "bf9b2482",
   "metadata": {},
   "outputs": [],
   "source": [
    "fig, ax = plt.subplots(figsize=(15, 5), ncols=3)\n",
    "\n",
    "sns.barplot(\n",
    "    synthetic_results_df, x=\"meta-model\", y=\"mae\", errorbar=\"se\", ax=ax[0]\n",
    ")\n",
    "ax[0].set_title(\"Synthetic - MAE\", fontsize=16)\n",
    "ax[0].set_ylabel(\"MAE (lower is better)\", fontsize=14)\n",
    "ax[0].set_xlabel(\"Meta-model\", fontsize=14)\n",
    "\n",
    "sns.barplot(\n",
    "    synthetic_results_df, x=\"meta-model\", y=\"corr\", errorbar=\"se\", ax=ax[1]\n",
    ")\n",
    "ax[1].set_title(\"Synthetic - Spearman correlation\", fontsize=16)\n",
    "ax[1].set_ylabel(\"Correlation (higher is better)\", fontsize=14)\n",
    "ax[1].set_xlabel(\"Meta-model\", fontsize=14)\n",
    "\n",
    "sns.barplot(\n",
    "    uci_results_df, x=\"meta-model\", y=\"accuracy\", errorbar=\"se\", ax=ax[2]\n",
    ")\n",
    "ax[2].set_title(\"UCI - Accuracy\", fontsize=16)\n",
    "ax[2].set_ylabel(\"Accuracy (higher is better)\", fontsize=14)\n",
    "ax[2].set_xlabel(\"Meta-model\", fontsize=14)\n",
    "ax[2].set_ylim(0.8, 0.9)\n",
    "fig.tight_layout()\n",
    "\n",
    "plt.savefig(\"../resutls.png\")"
   ]
  }
 ],
 "metadata": {
  "kernelspec": {
   "display_name": ".venv",
   "language": "python",
   "name": "python3"
  },
  "language_info": {
   "codemirror_mode": {
    "name": "ipython",
    "version": 3
   },
   "file_extension": ".py",
   "mimetype": "text/x-python",
   "name": "python",
   "nbconvert_exporter": "python",
   "pygments_lexer": "ipython3",
   "version": "3.10.12"
  }
 },
 "nbformat": 4,
 "nbformat_minor": 5
}
