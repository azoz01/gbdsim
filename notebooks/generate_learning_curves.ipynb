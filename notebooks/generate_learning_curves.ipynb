{
 "cells": [
  {
   "cell_type": "code",
   "execution_count": null,
   "id": "88289d94",
   "metadata": {},
   "outputs": [],
   "source": [
    "import os\n",
    "\n",
    "os.chdir(\"..\")"
   ]
  },
  {
   "cell_type": "code",
   "execution_count": null,
   "id": "355573ad",
   "metadata": {},
   "outputs": [],
   "source": [
    "import pandas as pd\n",
    "from tensorboard.backend.event_processing import event_accumulator\n",
    "import seaborn as sns\n",
    "from pathlib import Path\n",
    "import matplotlib.pyplot as plt"
   ]
  },
  {
   "cell_type": "code",
   "execution_count": null,
   "id": "587fdd82",
   "metadata": {},
   "outputs": [],
   "source": [
    "PLOTS_PATH = Path(\"results\") / \"plots\""
   ]
  },
  {
   "cell_type": "markdown",
   "id": "701ab7ba",
   "metadata": {},
   "source": [
    "### Synthetic"
   ]
  },
  {
   "cell_type": "code",
   "execution_count": null,
   "id": "4e76e33c",
   "metadata": {},
   "outputs": [],
   "source": [
    "file = list(Path(\"results/synthetic/gbdsim\").rglob(\"*.tfevents.*\"))[1]\n",
    "ea = event_accumulator.EventAccumulator(str(file))\n",
    "ea.Reload()\n",
    "val_df = ea.Scalars(\"val/mae_epoch\")\n",
    "val_df = pd.DataFrame(val_df)\n",
    "val_df[\"data\"] = \"meta-val\"\n",
    "\n",
    "train_df = ea.Scalars(\"train/mae_epoch\")\n",
    "train_df = pd.DataFrame(train_df)\n",
    "train_df[\"data\"] = \"meta-train\"\n",
    "\n",
    "gbdsim_df = pd.concat([val_df, train_df], axis=0)\n",
    "\n",
    "file = list(Path(\"results/synthetic/dataset2vec\").rglob(\"*.tfevents.*\"))[1]\n",
    "ea = event_accumulator.EventAccumulator(str(file))\n",
    "ea.Reload()\n",
    "val_df = ea.Scalars(\"val/mae_epoch\")\n",
    "val_df = pd.DataFrame(val_df)\n",
    "val_df[\"data\"] = \"meta-val\"\n",
    "\n",
    "train_df = ea.Scalars(\"train/mae_epoch\")\n",
    "train_df = pd.DataFrame(train_df)\n",
    "train_df[\"data\"] = \"meta-train\"\n",
    "\n",
    "dataset2vec_df = pd.concat([val_df, train_df], axis=0)"
   ]
  },
  {
   "cell_type": "code",
   "execution_count": null,
   "id": "f16fc2fa",
   "metadata": {},
   "outputs": [],
   "source": [
    "fig, ax = plt.subplots(figsize=(10, 4), ncols=2)\n",
    "\n",
    "sns.lineplot(data=gbdsim_df, x=\"step\", y=\"value\", hue=\"data\", ax=ax[0])\n",
    "ax[0].set_xlabel(\"Step\")\n",
    "ax[0].set_ylabel(\"MAE\")\n",
    "ax[0].set_title(\"GBDSim\")\n",
    "ax[0].set_ylim(0, 0.4)\n",
    "ax[0].get_legend().remove()\n",
    "\n",
    "sns.lineplot(data=dataset2vec_df, x=\"step\", y=\"value\", hue=\"data\", ax=ax[1])\n",
    "ax[1].set_xlabel(\"Step\")\n",
    "ax[1].set_ylabel(\"MAE\")\n",
    "ax[1].set_title(\"Dataset2Vec\")\n",
    "ax[1].set_ylim(0, 0.4)\n",
    "\n",
    "fig.savefig(PLOTS_PATH / \"synthetic_learning_curves.png\", bbox_inches=\"tight\")"
   ]
  },
  {
   "cell_type": "markdown",
   "id": "eb8c3b9e",
   "metadata": {},
   "source": [
    "### UCI"
   ]
  },
  {
   "cell_type": "code",
   "execution_count": null,
   "id": "7e2906d8",
   "metadata": {},
   "outputs": [],
   "source": [
    "file = list(Path(\"results/uci/gbdsim\").rglob(\"*.tfevents.*\"))[0]\n",
    "ea = event_accumulator.EventAccumulator(str(file))\n",
    "ea.Reload()\n",
    "val_df = ea.Scalars(\"val/accuracy_epoch\")\n",
    "val_df = pd.DataFrame(val_df)\n",
    "val_df[\"data\"] = \"meta-val\"\n",
    "\n",
    "train_df = ea.Scalars(\"train/accuracy_epoch\")\n",
    "train_df = pd.DataFrame(train_df)\n",
    "train_df[\"data\"] = \"meta-train\"\n",
    "\n",
    "gbdsim_df = pd.concat([val_df, train_df], axis=0)\n",
    "\n",
    "file = list(Path(\"results/uci/dataset2vec\").rglob(\"*.tfevents.*\"))[0]\n",
    "ea = event_accumulator.EventAccumulator(str(file))\n",
    "ea.Reload()\n",
    "val_df = ea.Scalars(\"val/accuracy_epoch\")\n",
    "val_df = pd.DataFrame(val_df)\n",
    "val_df[\"data\"] = \"meta-val\"\n",
    "\n",
    "train_df = ea.Scalars(\"train/accuracy_epoch\")\n",
    "train_df = pd.DataFrame(train_df)\n",
    "train_df[\"data\"] = \"meta-train\"\n",
    "\n",
    "dataset2vec_df = pd.concat([val_df, train_df], axis=0)"
   ]
  },
  {
   "cell_type": "code",
   "execution_count": null,
   "id": "73fa15c9",
   "metadata": {},
   "outputs": [],
   "source": [
    "fig, ax = plt.subplots(figsize=(10, 4), ncols=2)\n",
    "\n",
    "sns.lineplot(data=gbdsim_df, x=\"step\", y=\"value\", hue=\"data\", ax=ax[0])\n",
    "ax[0].set_xlabel(\"Step\")\n",
    "ax[0].set_ylabel(\"Accuracy\")\n",
    "ax[0].set_title(\"GBDSim\")\n",
    "ax[0].set_ylim(0, 1.0)\n",
    "ax[0].get_legend().remove()\n",
    "\n",
    "sns.lineplot(data=dataset2vec_df, x=\"step\", y=\"value\", hue=\"data\", ax=ax[1])\n",
    "ax[1].set_xlabel(\"Step\")\n",
    "ax[1].set_ylabel(\"Accuracy\")\n",
    "ax[1].set_title(\"Dataset2Vec\")\n",
    "ax[1].set_ylim(0, 1.0)\n",
    "\n",
    "fig.savefig(PLOTS_PATH / \"uci_learning_curves.png\", bbox_inches=\"tight\")"
   ]
  },
  {
   "cell_type": "markdown",
   "id": "67084a4a",
   "metadata": {},
   "source": [
    "### TabRepo"
   ]
  },
  {
   "cell_type": "code",
   "execution_count": null,
   "id": "7c508428",
   "metadata": {},
   "outputs": [],
   "source": [
    "file = list(Path(\"results/tabrepo/gbdsim\").rglob(\"*.tfevents.*\"))[0]\n",
    "ea = event_accumulator.EventAccumulator(str(file))\n",
    "ea.Reload()\n",
    "val_df = ea.Scalars(\"val/mae_epoch\")\n",
    "val_df = pd.DataFrame(val_df)\n",
    "val_df[\"data\"] = \"meta-val\"\n",
    "\n",
    "train_df = ea.Scalars(\"train/mae_epoch\")\n",
    "train_df = pd.DataFrame(train_df)\n",
    "train_df[\"data\"] = \"meta-train\"\n",
    "\n",
    "gbdsim_df = pd.concat([val_df, train_df], axis=0)\n",
    "\n",
    "file = list(Path(\"results/tabrepo/dataset2vec\").rglob(\"*.tfevents.*\"))[0]\n",
    "ea = event_accumulator.EventAccumulator(str(file))\n",
    "ea.Reload()\n",
    "val_df = ea.Scalars(\"val/mae_epoch\")\n",
    "val_df = pd.DataFrame(val_df)\n",
    "val_df[\"data\"] = \"meta-val\"\n",
    "\n",
    "train_df = ea.Scalars(\"train/mae_epoch\")\n",
    "train_df = pd.DataFrame(train_df)\n",
    "train_df[\"data\"] = \"meta-train\"\n",
    "\n",
    "dataset2vec_df = pd.concat([val_df, train_df], axis=0)"
   ]
  },
  {
   "cell_type": "code",
   "execution_count": null,
   "id": "23af8564",
   "metadata": {},
   "outputs": [],
   "source": [
    "fig, ax = plt.subplots(figsize=(10, 4), ncols=2)\n",
    "\n",
    "sns.lineplot(data=gbdsim_df, x=\"step\", y=\"value\", hue=\"data\", ax=ax[0])\n",
    "ax[0].set_xlabel(\"Step\")\n",
    "ax[0].set_ylabel(\"MAE\")\n",
    "ax[0].set_title(\"GBDSim\")\n",
    "ax[0].set_ylim(0, 0.6)\n",
    "ax[0].get_legend().remove()\n",
    "\n",
    "sns.lineplot(data=dataset2vec_df, x=\"step\", y=\"value\", hue=\"data\", ax=ax[1])\n",
    "ax[1].set_xlabel(\"Step\")\n",
    "ax[1].set_ylabel(\"MAE\")\n",
    "ax[1].set_title(\"Dataset2Vec\")\n",
    "ax[1].set_ylim(0, 0.6)\n",
    "\n",
    "fig.savefig(PLOTS_PATH / \"tabrepo_learning_curves.png\", bbox_inches=\"tight\")"
   ]
  }
 ],
 "metadata": {
  "kernelspec": {
   "display_name": ".venv",
   "language": "python",
   "name": "python3"
  },
  "language_info": {
   "codemirror_mode": {
    "name": "ipython",
    "version": 3
   },
   "file_extension": ".py",
   "mimetype": "text/x-python",
   "name": "python",
   "nbconvert_exporter": "python",
   "pygments_lexer": "ipython3",
   "version": "3.10.12"
  }
 },
 "nbformat": 4,
 "nbformat_minor": 5
}
