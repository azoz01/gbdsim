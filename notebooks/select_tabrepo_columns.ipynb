{
 "cells": [
  {
   "cell_type": "code",
   "execution_count": null,
   "id": "e25951d7",
   "metadata": {},
   "outputs": [],
   "source": [
    "import os\n",
    "\n",
    "os.chdir(\"..\")"
   ]
  },
  {
   "cell_type": "code",
   "execution_count": null,
   "id": "849fb678",
   "metadata": {},
   "outputs": [],
   "source": [
    "import numpy as np\n",
    "import pandas as pd\n",
    "import json\n",
    "import random\n",
    "\n",
    "from collections import Counter"
   ]
  },
  {
   "cell_type": "code",
   "execution_count": null,
   "id": "8342288d",
   "metadata": {},
   "outputs": [],
   "source": [
    "with open(\"data/tabrepo/split.json\", \"r\") as f:\n",
    "    train_split = json.load(f)[\"train\"]\n",
    "\n",
    "df = pd.read_csv(\"data/tabrepo/raw_ranks.csv\")\n",
    "df = df.loc[df.dataset_id.isin(train_split)]"
   ]
  },
  {
   "cell_type": "code",
   "execution_count": null,
   "id": "5ccc600c",
   "metadata": {},
   "outputs": [],
   "source": [
    "value_columns = df.iloc[:, 1:-1]"
   ]
  },
  {
   "cell_type": "code",
   "execution_count": null,
   "id": "57cfaa09",
   "metadata": {},
   "outputs": [],
   "source": [
    "pipelines = [p.split(\"_\")[0] for p in value_columns.columns.tolist()]\n",
    "Counter(pipelines)"
   ]
  },
  {
   "cell_type": "code",
   "execution_count": null,
   "id": "2a1e90c5",
   "metadata": {},
   "outputs": [],
   "source": [
    "best_models = np.argmin(value_columns.values, axis=1)\n",
    "best_models = [value_columns.columns[idx] for idx in best_models]\n",
    "Counter([p.split(\"_\")[0] for p in best_models]).most_common(20)"
   ]
  },
  {
   "cell_type": "code",
   "execution_count": null,
   "id": "c4841c61",
   "metadata": {},
   "outputs": [],
   "source": [
    "best_performing_models = [\n",
    "    item[0] for item in Counter(best_models).most_common(30)\n",
    "]"
   ]
  },
  {
   "cell_type": "code",
   "execution_count": null,
   "id": "05e71bed",
   "metadata": {},
   "outputs": [],
   "source": [
    "relevant_models = [\n",
    "    \"NeuralNetFastAI\",\n",
    "    \"CatBoost\",\n",
    "    \"NeuralNetTorch\",\n",
    "    \"LightGBM\",\n",
    "    \"ExtraTrees\",\n",
    "    \"XGBoost\",\n",
    "]"
   ]
  },
  {
   "cell_type": "code",
   "execution_count": null,
   "id": "988bb0c6",
   "metadata": {},
   "outputs": [],
   "source": [
    "stds = pd.DataFrame(\n",
    "    {\n",
    "        \"pipeline\": value_columns.columns,\n",
    "        \"model\": [m.split(\"_\")[0] for m in value_columns.columns],\n",
    "        \"std\": value_columns.std(axis=0),\n",
    "    }\n",
    ").reset_index(drop=True)\n",
    "stds = stds.groupby(by=\"model\").apply(\n",
    "    lambda df: df.sort_values(\"std\", ascending=False).head(5),\n",
    ")\n",
    "stds = stds.loc[stds.model.isin(relevant_models)]\n",
    "highest_std_pipelines = stds.reset_index(drop=True).pipeline.tolist()"
   ]
  },
  {
   "cell_type": "code",
   "execution_count": null,
   "id": "16e17fbd",
   "metadata": {},
   "outputs": [],
   "source": [
    "selected_models = highest_std_pipelines + best_performing_models\n",
    "random.shuffle(selected_models)"
   ]
  },
  {
   "cell_type": "code",
   "execution_count": null,
   "id": "5f51e0d3",
   "metadata": {},
   "outputs": [],
   "source": [
    "with open(\"data/tabrepo/selected_pipelines.json\", \"w\") as f:\n",
    "    json.dump(selected_models, f, indent=4)"
   ]
  }
 ],
 "metadata": {
  "kernelspec": {
   "display_name": ".venv",
   "language": "python",
   "name": "python3"
  },
  "language_info": {
   "codemirror_mode": {
    "name": "ipython",
    "version": 3
   },
   "file_extension": ".py",
   "mimetype": "text/x-python",
   "name": "python",
   "nbconvert_exporter": "python",
   "pygments_lexer": "ipython3",
   "version": "3.10.12"
  }
 },
 "nbformat": 4,
 "nbformat_minor": 5
}
