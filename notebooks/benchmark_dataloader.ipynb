{
 "cells": [
  {
   "cell_type": "code",
   "execution_count": null,
   "metadata": {},
   "outputs": [],
   "source": [
    "import os\n",
    "\n",
    "os.chdir(\"..\")"
   ]
  },
  {
   "cell_type": "code",
   "execution_count": null,
   "metadata": {},
   "outputs": [],
   "source": [
    "from torch.utils.data import DataLoader\n",
    "\n",
    "from gbdsim.causal.data import generate_synthetic_causal_data_example\n",
    "from gbdsim.data.generator_dataset import GeneratorDataset"
   ]
  },
  {
   "cell_type": "code",
   "execution_count": null,
   "metadata": {},
   "outputs": [],
   "source": [
    "def ben_fun_deterministic():\n",
    "    ds = GeneratorDataset(generate_synthetic_causal_data_example, 100, True)\n",
    "    dl = DataLoader(ds, batch_size=16, collate_fn=lambda x: x)\n",
    "    return list(dl)\n",
    "\n",
    "\n",
    "def ben_fun_non_deterministic():\n",
    "    ds = GeneratorDataset(generate_synthetic_causal_data_example, 100)\n",
    "    dl = DataLoader(ds, batch_size=16, collate_fn=lambda x: x)\n",
    "    return list(dl)"
   ]
  },
  {
   "cell_type": "code",
   "execution_count": null,
   "metadata": {},
   "outputs": [],
   "source": [
    "%timeit ben_fun_deterministic()"
   ]
  },
  {
   "cell_type": "code",
   "execution_count": null,
   "metadata": {},
   "outputs": [],
   "source": [
    "%timeit ben_fun_non_deterministic()"
   ]
  }
 ],
 "metadata": {
  "kernelspec": {
   "display_name": ".venv",
   "language": "python",
   "name": "python3"
  },
  "language_info": {
   "codemirror_mode": {
    "name": "ipython",
    "version": 3
   },
   "file_extension": ".py",
   "mimetype": "text/x-python",
   "name": "python",
   "nbconvert_exporter": "python",
   "pygments_lexer": "ipython3",
   "version": "3.10.12"
  }
 },
 "nbformat": 4,
 "nbformat_minor": 2
}
