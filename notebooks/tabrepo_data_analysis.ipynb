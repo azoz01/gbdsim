{
 "cells": [
  {
   "cell_type": "code",
   "execution_count": null,
   "id": "59b5ab29",
   "metadata": {},
   "outputs": [],
   "source": [
    "import os\n",
    "\n",
    "os.chdir(\"..\")"
   ]
  },
  {
   "cell_type": "code",
   "execution_count": null,
   "id": "9edcf66b",
   "metadata": {},
   "outputs": [],
   "source": [
    "from pathlib import Path\n",
    "import pytorch_lightning as pl\n",
    "import yaml\n",
    "from pytorch_lightning import seed_everything\n",
    "from torch.utils.data import DataLoader\n",
    "import pickle as pkl\n",
    "import torch\n",
    "import numpy as np\n",
    "\n",
    "from gbdsim.data.data_pairs_with_landmarkers_distance_generator import (\n",
    "    DatasetsPairsWithLandmarkersGenerator,\n",
    ")\n",
    "from gbdsim.data.generator_dataset import GeneratorDataset\n",
    "from gbdsim.experiment_config import ExperimentConfig\n",
    "import warnings\n",
    "from itertools import chain\n",
    "import pandas as pd\n",
    "import seaborn as sns\n",
    "from scipy.stats import ks_2samp\n",
    "import matplotlib.pyplot as plt\n",
    "\n",
    "warnings.simplefilter(\"ignore\")\n",
    "\n",
    "pl.seed_everything(1)"
   ]
  },
  {
   "cell_type": "code",
   "execution_count": null,
   "id": "3290b61b",
   "metadata": {},
   "outputs": [],
   "source": [
    "with open(\"config/tabrepo/gbdsim.yaml\") as f:\n",
    "    config = ExperimentConfig.model_validate(yaml.load(f, Loader=yaml.CLoader))"
   ]
  },
  {
   "cell_type": "code",
   "execution_count": null,
   "id": "2eb545c7",
   "metadata": {},
   "outputs": [],
   "source": [
    "train_dataset = GeneratorDataset(\n",
    "    DatasetsPairsWithLandmarkersGenerator.from_paths(\n",
    "        list(Path(\"data/tabrepo/datasets\").iterdir()),\n",
    "        Path(\"data/tabrepo/raw_ranks.csv\"),\n",
    "        Path(\"data/tabrepo/selected_pipelines.json\"),\n",
    "        \"train\",\n",
    "    ).generate_pair_of_datasets_with_label,\n",
    "    config.data.train_dataset_size,\n",
    "    False,\n",
    ")\n",
    "train_loader = DataLoader(\n",
    "    train_dataset,\n",
    "    config.data.train_batch_size,\n",
    "    collate_fn=lambda x: x,\n",
    "    num_workers=7,\n",
    "    pin_memory=True,\n",
    "    worker_init_fn=lambda id: seed_everything(id, verbose=False),  # type: ignore # noqa: E501\n",
    ")\n",
    "\n",
    "val_dataset = GeneratorDataset(\n",
    "    DatasetsPairsWithLandmarkersGenerator.from_paths(\n",
    "        list(Path(\"data/tabrepo/datasets\").iterdir()),\n",
    "        Path(\"data/tabrepo/raw_ranks.csv\"),\n",
    "        Path(\"data/tabrepo/selected_pipelines.json\"),\n",
    "        \"test\",\n",
    "    ).generate_pair_of_datasets_with_label,\n",
    "    config.data.train_dataset_size,\n",
    "    False,\n",
    ")\n",
    "val_loader = DataLoader(\n",
    "    val_dataset,\n",
    "    config.data.val_batch_size,\n",
    "    collate_fn=lambda x: x,\n",
    "    num_workers=7,\n",
    "    pin_memory=True,\n",
    "    worker_init_fn=lambda id: seed_everything(id, verbose=False),  # type: ignore # noqa: E501\n",
    ")"
   ]
  },
  {
   "cell_type": "code",
   "execution_count": null,
   "id": "1d04dae8",
   "metadata": {},
   "outputs": [],
   "source": [
    "train_data = list(chain(*[batch for batch in train_loader]))\n",
    "val_data = list(chain(*[batch for batch in val_loader]))\n",
    "\n",
    "train_similarities = [obs[-1].item() for obs in train_data]\n",
    "val_similarities = [obs[-1].item() for obs in val_data]"
   ]
  },
  {
   "cell_type": "markdown",
   "id": "ed2b98f8",
   "metadata": {},
   "source": [
    "### OOD Analysis - similarities only"
   ]
  },
  {
   "cell_type": "code",
   "execution_count": null,
   "id": "ba63c2ef",
   "metadata": {},
   "outputs": [],
   "source": [
    "histogram_data = pd.DataFrame(\n",
    "    {\n",
    "        \"similarity\": train_similarities + val_similarities,\n",
    "        \"sample\": [\"train\"] * len(val_similarities)\n",
    "        + [\"test\"] * len(val_similarities),\n",
    "    }\n",
    ")\n",
    "sns.kdeplot(data=histogram_data, x=\"similarity\", hue=\"sample\", fill=True)\n",
    "pval = ks_2samp(train_similarities, val_similarities).pvalue\n",
    "plt.title(\n",
    "    f\"Comparison of train-test similarity distributions \\n Kolmogorov-Smirnoff test p-value = {pval:.10f}\"\n",
    ")"
   ]
  },
  {
   "cell_type": "markdown",
   "id": "37eb2d29",
   "metadata": {},
   "source": [
    "### Landmarker distance vs residuals"
   ]
  },
  {
   "cell_type": "code",
   "execution_count": null,
   "id": "dbf4cd77",
   "metadata": {},
   "outputs": [],
   "source": [
    "with open(\n",
    "    \"results/tabrepo/gbdsim/2025_05_24__12_58_44/final_model.pkl\", \"rb\"\n",
    ") as f:\n",
    "    gbdsim = pkl.load(f).model\n",
    "\n",
    "with open(\n",
    "    \"results/tabrepo/dataset2vec/2025_05_24__13_07_49/final_model.pkl\", \"rb\"\n",
    ") as f:\n",
    "    dataset2vec = pkl.load(f).model"
   ]
  },
  {
   "cell_type": "code",
   "execution_count": null,
   "id": "ca9f28cc",
   "metadata": {},
   "outputs": [],
   "source": [
    "with torch.no_grad():\n",
    "    gbdsim_similarities = [\n",
    "        gbdsim.calculate_dataset_distance(\n",
    "            obs[0].to(gbdsim.device),\n",
    "            obs[1].to(gbdsim.device),\n",
    "            obs[2].to(gbdsim.device),\n",
    "            obs[3].to(gbdsim.device),\n",
    "        )[0].item()\n",
    "        for obs in val_data\n",
    "    ]\n",
    "    dataset2vec_similarities = [\n",
    "        dataset2vec.calculate_dataset_distance(\n",
    "            obs[0].to(gbdsim.device),\n",
    "            obs[1].to(gbdsim.device),\n",
    "            obs[2].to(gbdsim.device),\n",
    "            obs[3].to(gbdsim.device),\n",
    "        )[0].item()\n",
    "        for obs in val_data\n",
    "    ]"
   ]
  },
  {
   "cell_type": "code",
   "execution_count": null,
   "id": "f6ce7aa1",
   "metadata": {},
   "outputs": [],
   "source": [
    "sns.set_style(\"whitegrid\")"
   ]
  },
  {
   "cell_type": "code",
   "execution_count": null,
   "id": "622d29c5",
   "metadata": {},
   "outputs": [],
   "source": [
    "sns.scatterplot(\n",
    "    x=val_similarities,\n",
    "    y=np.array(val_similarities) - np.array(gbdsim_similarities),\n",
    ")\n",
    "plt.xlabel(\"Ground-truth label\")\n",
    "plt.ylabel(\"Residual\")"
   ]
  },
  {
   "cell_type": "code",
   "execution_count": null,
   "id": "d5222010",
   "metadata": {},
   "outputs": [],
   "source": [
    "sns.scatterplot(\n",
    "    x=val_similarities,\n",
    "    y=np.array(val_similarities) - np.array(dataset2vec_similarities),\n",
    ")\n",
    "plt.xlabel(\"Ground-truth label\")\n",
    "plt.ylabel(\"Residual\")"
   ]
  },
  {
   "cell_type": "code",
   "execution_count": null,
   "id": "ed5132a2",
   "metadata": {},
   "outputs": [],
   "source": [
    "hist_data = pd.DataFrame(\n",
    "    {\n",
    "        \"similarity\": val_similarities + gbdsim_similarities,\n",
    "        \"origin\": [\"Ground-truth\"] * len(val_similarities)\n",
    "        + [\"Predicted\"] * len(gbdsim_similarities),\n",
    "    }\n",
    ")\n",
    "sns.kdeplot(data=hist_data, x=\"similarity\", hue=\"origin\", fill=True)"
   ]
  }
 ],
 "metadata": {
  "kernelspec": {
   "display_name": ".venv",
   "language": "python",
   "name": "python3"
  },
  "language_info": {
   "codemirror_mode": {
    "name": "ipython",
    "version": 3
   },
   "file_extension": ".py",
   "mimetype": "text/x-python",
   "name": "python",
   "nbconvert_exporter": "python",
   "pygments_lexer": "ipython3",
   "version": "3.10.12"
  }
 },
 "nbformat": 4,
 "nbformat_minor": 5
}
